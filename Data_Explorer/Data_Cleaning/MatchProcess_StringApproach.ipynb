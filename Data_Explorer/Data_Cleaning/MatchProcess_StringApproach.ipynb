{
 "cells": [
  {
   "cell_type": "code",
   "execution_count": 1,
   "id": "c7e117cd",
   "metadata": {},
   "outputs": [],
   "source": [
    "import pandas as pd\n",
    "import matplotlib.pyplot as plt\n",
    "import os\n",
    "from rapidfuzz import process, fuzz"
   ]
  },
  {
   "cell_type": "code",
   "execution_count": 2,
   "id": "2064166e",
   "metadata": {},
   "outputs": [],
   "source": [
    "# OUTPUT: Processed_Data.csv"
   ]
  },
  {
   "cell_type": "code",
   "execution_count": 3,
   "id": "b23c0bb1",
   "metadata": {},
   "outputs": [],
   "source": [
    "# Reading the cleaned data and product data\n",
    "df_files = pd.read_csv(\"Clean_Data.csv\")\n",
    "df_products = pd.read_csv(\"../Format & Logistics Data/item_no.csv\", encoding='latin1')"
   ]
  },
  {
   "cell_type": "code",
   "execution_count": 4,
   "id": "e2b90568",
   "metadata": {},
   "outputs": [
    {
     "name": "stderr",
     "output_type": "stream",
     "text": [
      "C:\\Users\\jpeinado\\AppData\\Local\\Temp\\ipykernel_34792\\458968409.py:15: UserWarning: This pattern is interpreted as a regular expression, and has match groups. To actually get the groups, use str.extract.\n",
      "  match_mask = df_files['file_name'].str.contains(item, na=False)\n"
     ]
    }
   ],
   "source": [
    "\n",
    "# Normalize for comparison\n",
    "df_products['item_no'] = df_products['item_no'].astype(str).str.lower()\n",
    "df_products['description'] = df_products['description'].astype(str).str.strip()\n",
    "df_files['file_name'] = df_files['file_name'].astype(str).str.lower()\n",
    "\n",
    "# Add empty columns for result\n",
    "df_files['matched_item_no'] = None\n",
    "df_files['matched_description'] = None\n",
    "df_files['match_flag'] = 0\n",
    "\n",
    "# Match item_no in file_name\n",
    "for _, row in df_products.iterrows():\n",
    "    item = row['item_no']\n",
    "    desc = row['description']\n",
    "    match_mask = df_files['file_name'].str.contains(item, na=False)\n",
    "\n",
    "    # Only update unmatched rows to avoid overwriting\n",
    "    unmatched = df_files['match_flag'] == 0\n",
    "    update_mask = match_mask & unmatched\n",
    "\n",
    "    df_files.loc[update_mask, 'matched_item_no'] = item\n",
    "    df_files.loc[update_mask, 'matched_description'] = desc\n",
    "    df_files.loc[update_mask, 'match_flag'] = 1\n"
   ]
  },
  {
   "cell_type": "code",
   "execution_count": 5,
   "id": "97ae5bca",
   "metadata": {},
   "outputs": [
    {
     "name": "stdout",
     "output_type": "stream",
     "text": [
      "['prefix_name', 'file_name', 'file_path', 'pdf', 'iam', 'ipt', 'dwg', 'rfa', 'sldprt', 'sldasm', 'step', 'idw', 'main_folder', 'item_no', 'description', 'item_no_match_flag']\n"
     ]
    },
    {
     "data": {
      "text/html": [
       "<div>\n",
       "<style scoped>\n",
       "    .dataframe tbody tr th:only-of-type {\n",
       "        vertical-align: middle;\n",
       "    }\n",
       "\n",
       "    .dataframe tbody tr th {\n",
       "        vertical-align: top;\n",
       "    }\n",
       "\n",
       "    .dataframe thead th {\n",
       "        text-align: right;\n",
       "    }\n",
       "</style>\n",
       "<table border=\"1\" class=\"dataframe\">\n",
       "  <thead>\n",
       "    <tr style=\"text-align: right;\">\n",
       "      <th></th>\n",
       "      <th>item_no</th>\n",
       "      <th>file_name</th>\n",
       "      <th>description</th>\n",
       "      <th>prefix_name</th>\n",
       "      <th>pdf</th>\n",
       "      <th>dwg</th>\n",
       "      <th>sldprt</th>\n",
       "      <th>sldasm</th>\n",
       "      <th>ipt</th>\n",
       "      <th>iam</th>\n",
       "      <th>idw</th>\n",
       "      <th>file_path</th>\n",
       "      <th>main_folder</th>\n",
       "      <th>item_no_match_flag</th>\n",
       "    </tr>\n",
       "  </thead>\n",
       "  <tbody>\n",
       "    <tr>\n",
       "      <th>0</th>\n",
       "      <td>plywood</td>\n",
       "      <td>4x9 plywood sheet</td>\n",
       "      <td>PLYWOOD</td>\n",
       "      <td>- 3D PARTS</td>\n",
       "      <td>0</td>\n",
       "      <td>1</td>\n",
       "      <td>0</td>\n",
       "      <td>0</td>\n",
       "      <td>0</td>\n",
       "      <td>0</td>\n",
       "      <td>0</td>\n",
       "      <td>H:\\CACLA - Caledon ON\\Product and Technical\\Fa...</td>\n",
       "      <td>Fabrication</td>\n",
       "      <td>1</td>\n",
       "    </tr>\n",
       "    <tr>\n",
       "      <th>1</th>\n",
       "      <td>plywood</td>\n",
       "      <td>4x9 plywood sheet 2</td>\n",
       "      <td>PLYWOOD</td>\n",
       "      <td>- 3D PARTS</td>\n",
       "      <td>0</td>\n",
       "      <td>1</td>\n",
       "      <td>0</td>\n",
       "      <td>0</td>\n",
       "      <td>0</td>\n",
       "      <td>0</td>\n",
       "      <td>0</td>\n",
       "      <td>H:\\CACLA - Caledon ON\\Product and Technical\\Fa...</td>\n",
       "      <td>Fabrication</td>\n",
       "      <td>1</td>\n",
       "    </tr>\n",
       "  </tbody>\n",
       "</table>\n",
       "</div>"
      ],
      "text/plain": [
       "   item_no            file_name description prefix_name  pdf  dwg  sldprt  \\\n",
       "0  plywood    4x9 plywood sheet     PLYWOOD  - 3D PARTS    0    1       0   \n",
       "1  plywood  4x9 plywood sheet 2     PLYWOOD  - 3D PARTS    0    1       0   \n",
       "\n",
       "   sldasm  ipt  iam  idw                                          file_path  \\\n",
       "0       0    0    0    0  H:\\CACLA - Caledon ON\\Product and Technical\\Fa...   \n",
       "1       0    0    0    0  H:\\CACLA - Caledon ON\\Product and Technical\\Fa...   \n",
       "\n",
       "   main_folder  item_no_match_flag  \n",
       "0  Fabrication                   1  \n",
       "1  Fabrication                   1  "
      ]
     },
     "execution_count": 5,
     "metadata": {},
     "output_type": "execute_result"
    }
   ],
   "source": [
    "# Rename columns for clarity\n",
    "\n",
    "columns_to_rename = {\n",
    "    'parent_folder': 'prefix_name',\n",
    "    'matched_item_no': 'item_no',\n",
    "    'matched_description': 'description',\n",
    "    'match_flag': 'item_no_match_flag'\n",
    "}\n",
    "\n",
    "df_files.rename(columns=columns_to_rename, inplace=True)\n",
    "print(df_files.columns.tolist())\n",
    "\n",
    "\n",
    "df_files = df_files[['item_no', 'file_name', 'description', 'prefix_name', 'pdf','dwg','sldprt', 'sldasm', 'ipt', 'iam','idw', 'file_path','main_folder', 'item_no_match_flag']]\n",
    "\n",
    "df_files.head(2)\n"
   ]
  },
  {
   "cell_type": "code",
   "execution_count": 6,
   "id": "2cf845c2",
   "metadata": {},
   "outputs": [],
   "source": [
    "df_files.to_csv(\"Processed_Data.csv\", index=False)"
   ]
  }
 ],
 "metadata": {
  "kernelspec": {
   "display_name": "aluma",
   "language": "python",
   "name": "python3"
  },
  "language_info": {
   "codemirror_mode": {
    "name": "ipython",
    "version": 3
   },
   "file_extension": ".py",
   "mimetype": "text/x-python",
   "name": "python",
   "nbconvert_exporter": "python",
   "pygments_lexer": "ipython3",
   "version": "3.10.18"
  }
 },
 "nbformat": 4,
 "nbformat_minor": 5
}
