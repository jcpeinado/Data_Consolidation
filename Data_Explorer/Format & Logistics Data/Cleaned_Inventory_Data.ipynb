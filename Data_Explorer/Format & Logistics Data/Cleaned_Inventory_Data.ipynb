{
 "cells": [
  {
   "cell_type": "code",
   "execution_count": 20,
   "id": "20a1ef10",
   "metadata": {},
   "outputs": [],
   "source": [
    "import pandas as pd\n",
    "import sys\n",
    "import os\n",
    "import numpy as np\n",
    "import re"
   ]
  },
  {
   "cell_type": "code",
   "execution_count": 21,
   "id": "1649604d",
   "metadata": {},
   "outputs": [],
   "source": [
    "df_prefix = pd.read_csv('item_no_prefix_name.csv')\n",
    "df_item = pd.read_csv('item_no.csv', encoding='latin1')"
   ]
  },
  {
   "cell_type": "code",
   "execution_count": 22,
   "id": "9b32869e",
   "metadata": {},
   "outputs": [
    {
     "data": {
      "text/html": [
       "<div>\n",
       "<style scoped>\n",
       "    .dataframe tbody tr th:only-of-type {\n",
       "        vertical-align: middle;\n",
       "    }\n",
       "\n",
       "    .dataframe tbody tr th {\n",
       "        vertical-align: top;\n",
       "    }\n",
       "\n",
       "    .dataframe thead th {\n",
       "        text-align: right;\n",
       "    }\n",
       "</style>\n",
       "<table border=\"1\" class=\"dataframe\">\n",
       "  <thead>\n",
       "    <tr style=\"text-align: right;\">\n",
       "      <th></th>\n",
       "      <th>item_no</th>\n",
       "      <th>prefix_no</th>\n",
       "      <th>prefix_name</th>\n",
       "    </tr>\n",
       "  </thead>\n",
       "  <tbody>\n",
       "    <tr>\n",
       "      <th>0</th>\n",
       "      <td>1453200</td>\n",
       "      <td>01</td>\n",
       "      <td>TUBE &amp; CLAMP</td>\n",
       "    </tr>\n",
       "    <tr>\n",
       "      <th>1</th>\n",
       "      <td>151801</td>\n",
       "      <td>01</td>\n",
       "      <td>TUBE &amp; CLAMP</td>\n",
       "    </tr>\n",
       "    <tr>\n",
       "      <th>2</th>\n",
       "      <td>151802</td>\n",
       "      <td>01</td>\n",
       "      <td>TUBE &amp; CLAMP</td>\n",
       "    </tr>\n",
       "    <tr>\n",
       "      <th>3</th>\n",
       "      <td>228001</td>\n",
       "      <td>01</td>\n",
       "      <td>TUBE &amp; CLAMP</td>\n",
       "    </tr>\n",
       "    <tr>\n",
       "      <th>4</th>\n",
       "      <td>229001</td>\n",
       "      <td>01</td>\n",
       "      <td>TUBE &amp; CLAMP</td>\n",
       "    </tr>\n",
       "  </tbody>\n",
       "</table>\n",
       "</div>"
      ],
      "text/plain": [
       "   item_no prefix_no   prefix_name\n",
       "0  1453200        01  TUBE & CLAMP\n",
       "1   151801        01  TUBE & CLAMP\n",
       "2   151802        01  TUBE & CLAMP\n",
       "3   228001        01  TUBE & CLAMP\n",
       "4   229001        01  TUBE & CLAMP"
      ]
     },
     "execution_count": 22,
     "metadata": {},
     "output_type": "execute_result"
    }
   ],
   "source": [
    "df_prefix.drop(columns=['Unnamed: 0'], inplace=True)\n",
    "df_prefix.head()\n"
   ]
  },
  {
   "cell_type": "code",
   "execution_count": 23,
   "id": "1badf156",
   "metadata": {},
   "outputs": [
    {
     "data": {
      "text/html": [
       "<div>\n",
       "<style scoped>\n",
       "    .dataframe tbody tr th:only-of-type {\n",
       "        vertical-align: middle;\n",
       "    }\n",
       "\n",
       "    .dataframe tbody tr th {\n",
       "        vertical-align: top;\n",
       "    }\n",
       "\n",
       "    .dataframe thead th {\n",
       "        text-align: right;\n",
       "    }\n",
       "</style>\n",
       "<table border=\"1\" class=\"dataframe\">\n",
       "  <thead>\n",
       "    <tr style=\"text-align: right;\">\n",
       "      <th></th>\n",
       "      <th>item_no</th>\n",
       "      <th>description</th>\n",
       "    </tr>\n",
       "  </thead>\n",
       "  <tbody>\n",
       "    <tr>\n",
       "      <th>0</th>\n",
       "      <td>760</td>\n",
       "      <td>FILLER 5 X 2FT 7 GA</td>\n",
       "    </tr>\n",
       "    <tr>\n",
       "      <th>1</th>\n",
       "      <td>2607016</td>\n",
       "      <td>BOLT M16X70 DIN-933-8.8</td>\n",
       "    </tr>\n",
       "    <tr>\n",
       "      <th>2</th>\n",
       "      <td>608625</td>\n",
       "      <td>IK WALER M 250</td>\n",
       "    </tr>\n",
       "    <tr>\n",
       "      <th>3</th>\n",
       "      <td>HDTM1115</td>\n",
       "      <td>HEX COUPLER W/ STOP PIN 15MM</td>\n",
       "    </tr>\n",
       "    <tr>\n",
       "      <th>4</th>\n",
       "      <td>2622102</td>\n",
       "      <td>WALER -120 / 2,625</td>\n",
       "    </tr>\n",
       "  </tbody>\n",
       "</table>\n",
       "</div>"
      ],
      "text/plain": [
       "    item_no                   description\n",
       "0       760           FILLER 5 X 2FT 7 GA\n",
       "1   2607016       BOLT M16X70 DIN-933-8.8\n",
       "2    608625                IK WALER M 250\n",
       "3  HDTM1115  HEX COUPLER W/ STOP PIN 15MM\n",
       "4   2622102            WALER -120 / 2,625"
      ]
     },
     "execution_count": 23,
     "metadata": {},
     "output_type": "execute_result"
    }
   ],
   "source": [
    "df_item.head()"
   ]
  },
  {
   "cell_type": "code",
   "execution_count": 24,
   "id": "15e332e8",
   "metadata": {},
   "outputs": [],
   "source": [
    "# Initialize match_flag column\n",
    "df_item['match_flag'] = 0\n",
    "\n",
    "for _, row in df_prefix.iterrows():\n",
    "    item = row['item_no']\n",
    "    match_mask = df_item['item_no'].str.casefold().fillna('').eq(item.casefold())\n",
    "\n",
    "    # Only update unmatched rows to avoid overwriting\n",
    "    unmatched = df_item['match_flag'] == 0\n",
    "    update_mask = match_mask & unmatched\n",
    "\n",
    "    df_item.loc[update_mask, 'matched_item_no'] = item\n",
    "    df_item.loc[update_mask, 'match_flag'] = 1\n"
   ]
  },
  {
   "cell_type": "code",
   "execution_count": 25,
   "id": "37579161",
   "metadata": {},
   "outputs": [
    {
     "data": {
      "text/plain": [
       "np.int64(4416)"
      ]
     },
     "execution_count": 25,
     "metadata": {},
     "output_type": "execute_result"
    }
   ],
   "source": [
    "df_item['match_flag'].sum()"
   ]
  }
 ],
 "metadata": {
  "kernelspec": {
   "display_name": "aluma",
   "language": "python",
   "name": "python3"
  },
  "language_info": {
   "codemirror_mode": {
    "name": "ipython",
    "version": 3
   },
   "file_extension": ".py",
   "mimetype": "text/x-python",
   "name": "python",
   "nbconvert_exporter": "python",
   "pygments_lexer": "ipython3",
   "version": "3.10.18"
  }
 },
 "nbformat": 4,
 "nbformat_minor": 5
}
